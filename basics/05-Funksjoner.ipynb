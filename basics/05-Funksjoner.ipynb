{
 "cells": [
  {
   "cell_type": "markdown",
   "metadata": {},
   "source": [
    "# 5 - Funksjoner"
   ]
  },
  {
   "cell_type": "markdown",
   "metadata": {},
   "source": [
    "## 5.1 Funksjoner og argumenter/parametre\n",
    "- Funksjoner defineres med nøkkelordet 'def' fulgt av funksjonsnavn og parantes\n",
    "- Parametre plasseres inne i parantesen\n",
    "- Beskrivelse av funksjonen kan legges til som første ledd, inni enkel eller trippel anførselstegn\n",
    "- Innrykk definerer hva som tilhører kodeblokken til funksjonen\n",
    "- \"return\" avslutter funksjonen og returnerer verdien som følger etter\n",
    "\n",
    "Definerer en funksjon som legger sammen to lister, sorterer innholdet og deretter returnerer resultatet som én liste"
   ]
  },
  {
   "cell_type": "code",
   "execution_count": null,
   "metadata": {},
   "outputs": [],
   "source": [
    "def merge_and_sort(list1, list2):\n",
    "    \"\"\"\n",
    "    Denne funksjonen slår sammen og\n",
    "    sorterer to lister. Funksjonen har to parametre,\n",
    "    'list1' og 'list2'\n",
    "    \"\"\"\n",
    "    list3 = list1 + list2\n",
    "    list3.sort()\n",
    "    return list3"
   ]
  },
  {
   "cell_type": "markdown",
   "metadata": {},
   "source": [
    "Vi kan kjøre denne funksjonen slik:"
   ]
  },
  {
   "cell_type": "code",
   "execution_count": null,
   "metadata": {},
   "outputs": [],
   "source": [
    "bokstaver = ['c', 'a', 'b']\n",
    "tall = ['1', '3', '2']\n",
    "\n",
    "merge_and_sort(bokstaver, tall)"
   ]
  },
  {
   "cell_type": "markdown",
   "metadata": {},
   "source": [
    "Vi kaller altså funksjonen og sender inn to argumenter; 'bokstaver' og 'tall'"
   ]
  },
  {
   "cell_type": "markdown",
   "metadata": {},
   "source": [
    "**Standardverdier**\n",
    "- Når en funksjon defineres kan også standardverdier for parametrene angis. Denne verdien blir brukt dersom ingen verdi blir sendt inn som argumenter når funksjonen kalles.\n",
    "\n",
    "Funksjonen under summerer (maks 3) tall og skriver ut resultatet. (Har ingen \"return\" verdi)"
   ]
  },
  {
   "cell_type": "code",
   "execution_count": null,
   "metadata": {},
   "outputs": [],
   "source": [
    "def sum(tall1=0, tall2=0, tall3=0):\n",
    "    print(\"Summen er:\", tall1+tall2+tall3)\n",
    "sum(1,4)"
   ]
  },
  {
   "cell_type": "markdown",
   "metadata": {},
   "source": [
    "Hvis man ikke alltid husker rekkefølgen på parametrene i en funksjon, eller at man vil gi et spesifikt parameter en verdi,\n",
    "kan man spesifisere variabelnavnet når man kaller funksjonen:"
   ]
  },
  {
   "cell_type": "code",
   "execution_count": null,
   "metadata": {},
   "outputs": [],
   "source": [
    "sum(tall3=43)"
   ]
  },
  {
   "cell_type": "markdown",
   "metadata": {},
   "source": [
    "**Variabelt antall argumenter og vilkårlige nøkkelord-argumenter**\n",
    "- Man kan lage funksjoner som tar vilkårlig antall argumenter. *sum* er et eksempel på en funksjon som tar en eller flere tall. Dette gjøres ved \\*args parameteren.\n",
    "- Parameteren vil ha typen _tuple_."
   ]
  },
  {
   "cell_type": "code",
   "execution_count": null,
   "metadata": {},
   "outputs": [],
   "source": [
    "def sum(*tall):\n",
    "    print(type(tall))\n",
    "    total = 0\n",
    "    for t in tall:\n",
    "        total = total + t\n",
    "    return total\n",
    "sum(1, 2, 3, 4, 5)"
   ]
  },
  {
   "cell_type": "markdown",
   "metadata": {},
   "source": [
    "Man kan også ta inn et vilkårlig antall nøkkelord-argumenter. I så fall vil typen på parameteren være en dict."
   ]
  },
  {
   "cell_type": "code",
   "execution_count": null,
   "metadata": {},
   "outputs": [],
   "source": [
    "def print_definisjoner(**definisjoner):\n",
    "    print(type(definisjoner))\n",
    "    print(\", \".join(f\"{k}={v}\" for k, v in definisjoner.items()))\n",
    "print_definisjoner(pluss=\"+\", minus=\"-\", ganger=\"*\")"
   ]
  },
  {
   "cell_type": "markdown",
   "metadata": {},
   "source": [
    "En vanlig bruk for **kwargs er å sende argumenter som er ment for funksjoner som brukes inne i en annen funksjon. I funksjonen under bruker man **kwargs for å sende nøkkelord-argumenter, som *sort_and_slice* ikke bruker, til *sorted*-funksjonen."
   ]
  },
  {
   "cell_type": "code",
   "execution_count": null,
   "metadata": {},
   "outputs": [],
   "source": [
    "def sort_and_slice(*args, interval=1, **kwargs):\n",
    "    return sorted(args, **kwargs)[::interval]\n",
    "\n",
    "print(sort_and_slice(1, 2, 3, 4))\n",
    "print(sort_and_slice(1, 2, 3, 4, interval=2))\n",
    "print(sort_and_slice(1, 2, 3, 4, interval=2, reverse=True))\n",
    "    "
   ]
  },
  {
   "cell_type": "markdown",
   "metadata": {},
   "source": [
    "# Oppgaver"
   ]
  },
  {
   "cell_type": "markdown",
   "metadata": {},
   "source": [
    "## Oppgave: Opprette funksjoner\n",
    "\n",
    "Lag og bruk noen funksjoner.\n",
    "- Lag en funksjon som tar inn et tall og returnerer summen av alle heltall fra 0 til og med det tallet som sendes inn.\n",
    "    - eks. summer(5): 1 + 2 + 3 + 4 + 5 = 15. Funksjonen skal da returnere tallet 15.\n",
    "    \n",
    "    \n",
    "- Lag en funksjon med navnet _har\\_nummer_ som tar inn en streng.\n",
    "    - Hvis strengen inneholder et eller flere tall, returner True, hvis ikke returner False"
   ]
  }
 ],
 "metadata": {
  "kernelspec": {
   "display_name": "Python 3 (ipykernel)",
   "language": "python",
   "name": "python3"
  },
  "language_info": {
   "codemirror_mode": {
    "name": "ipython",
    "version": 3
   },
   "file_extension": ".py",
   "mimetype": "text/x-python",
   "name": "python",
   "nbconvert_exporter": "python",
   "pygments_lexer": "ipython3",
   "version": "3.12.3"
  }
 },
 "nbformat": 4,
 "nbformat_minor": 4
}
