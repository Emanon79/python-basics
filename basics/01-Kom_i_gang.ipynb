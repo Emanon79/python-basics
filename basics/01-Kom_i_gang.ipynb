{
 "cells": [
  {
   "cell_type": "markdown",
   "id": "d50d3603-025b-4d10-89e1-e83408f87f4f",
   "metadata": {},
   "source": [
    "## Hello World\n",
    "Kopier følgdende kode inn i en fil med navn *hello_world.py* og kjør den med python3"
   ]
  },
  {
   "cell_type": "code",
   "execution_count": null,
   "id": "54d0b3c7-1dd4-495d-87aa-526ef17d1409",
   "metadata": {},
   "outputs": [],
   "source": [
    "print(\"Hello World!\")"
   ]
  },
  {
   "cell_type": "markdown",
   "id": "3c70c6a5-9de4-48b3-b342-165ce4371778",
   "metadata": {},
   "source": [
    "## print() og input()\n",
    "\n",
    "* print() funksjonen brukes for å skrive ut ting\n",
    "* Legger til ett linjeskift på slutten\n",
    "* Uten argumenter, printer den bare en tom linje\n",
    "* Kan ta flere argumenter, av forskjellige typer"
   ]
  },
  {
   "cell_type": "code",
   "execution_count": null,
   "id": "d4ac7f61-f549-4035-85f3-bc5561e78640",
   "metadata": {},
   "outputs": [],
   "source": [
    "print(\"Hello World!\")\n",
    "print()\n",
    "\n",
    "a = 2\n",
    "b = 3\n",
    "print(a, \"+\", b, \"=\", a + b)"
   ]
  },
  {
   "cell_type": "markdown",
   "id": "5444cb02-e7d6-4708-90dc-5377f9babeca",
   "metadata": {},
   "source": [
    "* input() funksjonen brukes for å få informasjon fra brukeren\n",
    "* Tar en spørre-streng som argument, og returnerer en streng"
   ]
  },
  {
   "cell_type": "code",
   "execution_count": null,
   "id": "09f7e033-51dc-4f22-a08b-756389410d9f",
   "metadata": {},
   "outputs": [],
   "source": [
    "a = input(\"Hva heter du? \")\n",
    "print(\"Hei \" + a)\n",
    "input(\"Trykk enter for å fortsette\")"
   ]
  }
 ],
 "metadata": {
  "kernelspec": {
   "display_name": "Python 3 (ipykernel)",
   "language": "python",
   "name": "python3"
  },
  "language_info": {
   "codemirror_mode": {
    "name": "ipython",
    "version": 3
   },
   "file_extension": ".py",
   "mimetype": "text/x-python",
   "name": "python",
   "nbconvert_exporter": "python",
   "pygments_lexer": "ipython3",
   "version": "3.12.3"
  }
 },
 "nbformat": 4,
 "nbformat_minor": 5
}
