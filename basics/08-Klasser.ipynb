{
 "cells": [
  {
   "cell_type": "markdown",
   "id": "514bff94-36df-4e10-87d0-284184e6d2b3",
   "metadata": {},
   "source": [
    "8 - Klasser og objekter"
   ]
  },
  {
   "cell_type": "markdown",
   "id": "90118682-7a5c-41d1-9129-9fcfad141d19",
   "metadata": {},
   "source": [
    "## 8.1 Klasser\n",
    "- En klasse er en samling av funksjonalitet i attributter som brukes til å forenkle et program.\n",
    "- Deklareres ved å bruke nøkkelordet **class**\n",
    "- Initialiseres venligvis ved bruk av *\\_\\_init\\_\\_* metoden. Denne kalles en konstruktør.\n",
    "- Alle metoder i en klasse må ha en referanse til klassen selv (_self_) som første parameter.\n",
    "- Funksjoner som ikke har _self_ som første parameter er klassemetoder som ikke kan brukes på instanser av en klasse.\n",
    "- Variabler som hører til klassen (kalles for attributter) kan brukes av funksjoner ved å bruke `self.variabelnavn`\n",
    "- Klasser kan defineres i et hierarki hvor sub-klasser arver attributter til parent-klasser."
   ]
  },
  {
   "cell_type": "markdown",
   "id": "096b9390-4268-4ff1-b55b-7c557804542c",
   "metadata": {},
   "source": [
    "Eksempel på en klasse:"
   ]
  },
  {
   "cell_type": "code",
   "execution_count": null,
   "id": "5a25cabb-b9b6-4131-9969-8edab33c914e",
   "metadata": {},
   "outputs": [],
   "source": [
    "class TargetHost:\n",
    "    \"\"\"Collected info on target\"\"\"\n",
    "\n",
    "    def __init__(self, hostname):\n",
    "        self.hostname = hostname\n",
    "        self.os = \"Unknown\"\n",
    "        self.open_ports = []\n",
    "\n",
    "    def new(host_descr: dict):\n",
    "        obj = TargetHost(host_descr.get(\"host\"))\n",
    "        obj.os = host_descr.get(\"platform\")\n",
    "        return obj\n",
    "    \n",
    "    def info(self):\n",
    "        print(\"Hostname: {verdi}\".format(verdi=self.hostname))\n",
    "        print(\"OS:\", self.os)\n",
    "        print(\"Open ports: %s\" % \", \".join(self.open_ports))\n"
   ]
  },
  {
   "cell_type": "markdown",
   "id": "917683d2-1505-4ff2-a92c-2352710de75a",
   "metadata": {},
   "source": [
    "- Klassen heter *TargetHost*, og er en sub-klasse av klasse Object. (Det er alle klasser)\n",
    "- Metoden *\\_\\_init\\_\\_* brukes når det lages en ny instans av klassen. Den kan ha parametre.\n",
    "- Funksjonen *new* lager en ny instans av klassen basert på en dict. Den kan ikke brukes på en instans av en klasse.\n",
    "- Metoden *info* kan brukes på instanser av klassen."
   ]
  },
  {
   "cell_type": "markdown",
   "id": "0cefc3f3-c893-4f0a-9284-6e32c34e41a4",
   "metadata": {},
   "source": [
    "## 8.2 Objekter\n",
    "Et objekt er en instans av en gitt klasse. Klassen blir brukt som en mal for å lage en instans.\n",
    "Man kan initialisere et objekt og bruke en variabel for å aksessere objektets attributter og metoder.\n"
   ]
  },
  {
   "cell_type": "code",
   "execution_count": null,
   "id": "4fe70a38-7c41-430b-99c4-9dd173009b8d",
   "metadata": {},
   "outputs": [],
   "source": [
    "new_host = TargetHost(\"win90\")                  # Initialiserer et objekt av TargetHost-klassen\n",
    "new_host.os = \"Windows XP\"               # Setter os-attributten\n",
    "new_host.open_ports = ['21', '22', '80'] # Setter open_ports-attributten\n",
    "new_host.info()                          # Kaller info()-metoden"
   ]
  },
  {
   "cell_type": "markdown",
   "id": "da15c129-864f-4458-8771-b3f2c99f2263",
   "metadata": {},
   "source": [
    "Man kan opprette mange instanser av en klasse. Hvis man endrer en instans, endrer man ikke de andre instansene."
   ]
  },
  {
   "cell_type": "code",
   "execution_count": null,
   "id": "4f7f5779-a70c-4ae1-9400-8d4cd8996817",
   "metadata": {},
   "outputs": [],
   "source": [
    "host1 = TargetHost(\"win23\")\n",
    "host2 = TargetHost(\"Ubuntu23\")\n",
    "host2.os = \"Ubuntu 24.04\"\n",
    "\n",
    "host1.info()\n",
    "print(\"---\")\n",
    "host2.info()"
   ]
  },
  {
   "cell_type": "code",
   "execution_count": null,
   "id": "4fa8d566-0b7d-490e-9dae-ee2fcba5f87d",
   "metadata": {},
   "outputs": [],
   "source": [
    "host3 = TargetHost.new({\"host\": \"ubuntu 7\", \"platform\": \"linux\"})\n",
    "host3.info()"
   ]
  },
  {
   "cell_type": "markdown",
   "id": "981068ae-e466-4e15-81fa-51906a0acd10",
   "metadata": {},
   "source": [
    "## 8.3 Dunder metoder\n",
    "Dunder metoder er metoder som man kan implementere for å kunne benytte seg av innebygd python syntax.\n",
    "* `__add__`: er en spesiell metode som blir kalt når objektet adderes med noe annet.\n",
    "* `__mul__`: Multiplikasjon.\n",
    "* `__sub__`: Subtraksjon.\n",
    "* `__str__`: Metode som blir kalt når man forsøker å caste objektet til typen `str`.\n",
    "* `__call__`: Metode som kalles når man bruker objektet som en funksjon.\n",
    "* `__getattr__`: Metode som kalles når man aksesserer en attributt som ikke er definert."
   ]
  },
  {
   "cell_type": "code",
   "execution_count": null,
   "id": "751d8381-853a-47f6-9940-3d35bc262a94",
   "metadata": {},
   "outputs": [],
   "source": [
    "print(\"host3.__str__():\", host3.__str__())\n",
    "print(\"host3.__dict__:\", host3.__dict__)\n",
    "print()\n",
    "print(\"dir(int):\", dir(int))\n",
    "print()\n",
    "print(\"int.__bool__(1):\", int.__bool__(1))\n",
    "print(\"(1).__add__(2):\", (1).__add__(2))"
   ]
  },
  {
   "cell_type": "code",
   "execution_count": null,
   "id": "f92bd3c4-8cdf-42e3-ab13-b66a1707d176",
   "metadata": {},
   "outputs": [],
   "source": [
    "class CustomStreng:\n",
    "    def __init__(self, num):\n",
    "        self.num = str(num)\n",
    "    def __str__(self):\n",
    "        return str(self.num)\n",
    "    def __add__(self, new_num):\n",
    "        self.num = str(int(self.num) + int(new_num))\n",
    "        return self\n",
    "    def __call__(self):\n",
    "        print(f\"Call: {self.num}\")\n",
    "\n",
    "a = CustomStreng(\"5\")\n",
    "print(a)\n",
    "a = a + \"5\"\n",
    "print(a)\n",
    "a += \"5\"\n",
    "print(a)\n",
    "a += \"5\"\n",
    "print(a)\n",
    "a()"
   ]
  },
  {
   "cell_type": "markdown",
   "id": "fd795f82-5853-46bd-bce8-a2a964bde45c",
   "metadata": {},
   "source": [
    "# Oppgaver"
   ]
  },
  {
   "cell_type": "markdown",
   "id": "94b41d15-8a73-49e9-97a0-d49d5a89b133",
   "metadata": {},
   "source": [
    "## Oppgave: Lag egen klasse og objekter\n",
    "\n",
    "- Lag en klasse med navn _Person_ som har 3 attributter: `navn`, `alder` og `hobbyer`. Det er opp til deg å bestemme hva slags type som passer best for disse attributtene.\n",
    "    - Klassen skal ha en metode (funksjon) som skriver ut navnet og alderen på personen.\n",
    "    - Lag også en metode for å skrive ut alle hobbyer sortert i alfabetisk rekkefølge"
   ]
  }
 ],
 "metadata": {
  "kernelspec": {
   "display_name": "Python 3 (ipykernel)",
   "language": "python",
   "name": "python3"
  },
  "language_info": {
   "codemirror_mode": {
    "name": "ipython",
    "version": 3
   },
   "file_extension": ".py",
   "mimetype": "text/x-python",
   "name": "python",
   "nbconvert_exporter": "python",
   "pygments_lexer": "ipython3",
   "version": "3.12.3"
  }
 },
 "nbformat": 4,
 "nbformat_minor": 5
}
